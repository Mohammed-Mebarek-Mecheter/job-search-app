{
 "cells": [
  {
   "cell_type": "code",
   "outputs": [],
   "source": [
    "import pandas as pd\n",
    "from serpapi import GoogleSearch\n",
    "import psycopg2\n",
    "import os"
   ],
   "metadata": {
    "collapsed": false,
    "ExecuteTime": {
     "end_time": "2024-03-05T02:56:12.303597Z",
     "start_time": "2024-03-05T02:56:09.478232Z"
    }
   },
   "id": "194904443723cc1b",
   "execution_count": 2
  },
  {
   "cell_type": "code",
   "execution_count": 3,
   "id": "initial_id",
   "metadata": {
    "collapsed": true,
    "ExecuteTime": {
     "end_time": "2024-03-05T02:56:12.416304Z",
     "start_time": "2024-03-05T02:56:12.309599Z"
    }
   },
   "outputs": [],
   "source": [
    "conn = psycopg2.connect(\n",
    "    dbname=\"job_db\",\n",
    "    user=\"postgres\",\n",
    "    password=\"mebarek\",\n",
    "    host=\"localhost\"\n",
    ")\n",
    "\n",
    "cursor = conn.cursor()"
   ]
  },
  {
   "cell_type": "code",
   "outputs": [
    {
     "name": "stdout",
     "output_type": "stream",
     "text": [
      "No job results found.\n"
     ]
    }
   ],
   "source": [
    "job_titles = {\"Business Analyst\", \"Research Analyst\", \"Market Research Analyst\",\n",
    "              \"Marketing Analyst\", \"Data Analyst\", \"Quantitative Analyst\",\n",
    "              \"Data Specialist\", \"Analytics Consultant\", \"Business Intelligence Analyst\",\n",
    "              \"Financial Analyst\", \"Credit Analyst\", \"Data Scientist\"}\n",
    "params = {\n",
    "    \"engine\": \"google_jobs\",\n",
    "    \"q\": \" | \".join(job_titles),\n",
    "    \"location\": \"Doha, Qatar\",\n",
    "    \"api_key\": os.getenv(\"SERPAPI_API_KEY\")\n",
    "}\n",
    "\n",
    "search = GoogleSearch(params)\n",
    "results = search.get_dict()\n",
    "\n",
    "# Check if 'jobs_results' key exists in results dictionary\n",
    "if \"jobs_results\" in results:\n",
    "    jobs = results[\"jobs_results\"]\n",
    "\n",
    "    for job in jobs:\n",
    "        # Print out keys to see available fields\n",
    "        print(job.keys())\n",
    "else:\n",
    "    print(\"No job results found.\")"
   ],
   "metadata": {
    "collapsed": false,
    "ExecuteTime": {
     "end_time": "2024-03-05T02:56:13.812333Z",
     "start_time": "2024-03-05T02:56:12.418307Z"
    }
   },
   "id": "a7589a445f25854a",
   "execution_count": 4
  },
  {
   "cell_type": "code",
   "outputs": [],
   "source": [
    "jobs = results.get(\"jobs_results\", []) \n",
    "\n",
    "for job in jobs:\n",
    "    # Extract fields\n",
    "    title = job.get(\"title\", \"\")\n",
    "    company = job.get(\"company_name\", \"\")\n",
    "    location = job.get(\"location\", \"\")\n",
    "    job_id = job.get(\"job_id\", \"\")\n",
    "    description = job.get(\"description\", \"\")\n",
    "    via = job.get(\"via\", \"\")\n",
    "    job_highlights = \", \".join(highlight.get(\"items\", [\"\"]) for highlight in job.get(\"job_highlights\", []))\n",
    "    related_links = \", \".join([f\"{link['link']} - {link['text']}\" for link in job.get(\"related_links\", [])])\n",
    "    thumbnail = job.get(\"thumbnail\", \"\")\n",
    "    extensions = \", \".join(job.get(\"extensions\", []))\n",
    "    detected_extensions = \", \".join([f\"{key}: {value}\" for key, value in job.get(\"detected_extensions\", {}).items()])\n",
    "\n",
    "    # Print SQL insert statement\n",
    "    insert_query = f\"\"\"\n",
    "    INSERT INTO public.jobs (title, company, location, job_id, description, via, job_highlights, related_links, thumbnail, extensions, detected_extensions)\n",
    "    VALUES ('{title}', '{company}', '{location}', '{job_id}', '{description}', '{via}', '{job_highlights}', '{related_links}', '{thumbnail}', '{extensions}', '{detected_extensions}');\n",
    "    \"\"\"\n",
    "    print(insert_query)\n",
    "    print(\"\")"
   ],
   "metadata": {
    "collapsed": false,
    "ExecuteTime": {
     "end_time": "2024-03-05T02:56:13.832214Z",
     "start_time": "2024-03-05T02:56:13.816335Z"
    }
   },
   "id": "efbcb1323fbbdc57",
   "execution_count": 5
  },
  {
   "cell_type": "code",
   "outputs": [
    {
     "data": {
      "text/plain": "Empty DataFrame\nColumns: [Title, Company, Location, Job ID, Description, Via, Job Highlights, Related Links, Thumbnail, Extensions, Detected Extensions]\nIndex: []",
      "text/html": "<div>\n<style scoped>\n    .dataframe tbody tr th:only-of-type {\n        vertical-align: middle;\n    }\n\n    .dataframe tbody tr th {\n        vertical-align: top;\n    }\n\n    .dataframe thead th {\n        text-align: right;\n    }\n</style>\n<table border=\"1\" class=\"dataframe\">\n  <thead>\n    <tr style=\"text-align: right;\">\n      <th></th>\n      <th>Title</th>\n      <th>Company</th>\n      <th>Location</th>\n      <th>Job ID</th>\n      <th>Description</th>\n      <th>Via</th>\n      <th>Job Highlights</th>\n      <th>Related Links</th>\n      <th>Thumbnail</th>\n      <th>Extensions</th>\n      <th>Detected Extensions</th>\n    </tr>\n  </thead>\n  <tbody>\n  </tbody>\n</table>\n</div>"
     },
     "execution_count": 6,
     "metadata": {},
     "output_type": "execute_result"
    }
   ],
   "source": [
    "jobs = results.get(\"jobs_results\", [])  # Use .get() method to handle key absence\n",
    "\n",
    "# Initialize empty lists to store job data\n",
    "title = []\n",
    "company = []\n",
    "location = []\n",
    "job_id = []\n",
    "description = []\n",
    "via = []\n",
    "job_highlights = []\n",
    "related_links = []\n",
    "thumbnail = []\n",
    "extensions = []\n",
    "detected_extensions = []\n",
    "\n",
    "for job in jobs:\n",
    "    # Extract fields\n",
    "    title.append(job.get(\"title\", \"\"))\n",
    "    company.append(job.get(\"company_name\", \"\"))\n",
    "    location.append(job.get(\"location\", \"\"))\n",
    "    job_id.append(job.get(\"job_id\", \"\"))\n",
    "    description.append(job.get(\"description\", \"\"))\n",
    "    via.append(job.get(\"via\", \"\"))\n",
    "    job_highlights.append(\", \".join(highlight.get(\"items\", [\"\"]) for highlight in job.get(\"job_highlights\", [])))\n",
    "    related_links.append(\", \".join([f\"{link['link']} - {link['text']}\" for link in job.get(\"related_links\", [])]))\n",
    "    thumbnail.append(job.get(\"thumbnail\", \"\"))\n",
    "    extensions.append(\", \".join(job.get(\"extensions\", [])))\n",
    "    detected_extensions.append(\", \".join([f\"{key}: {value}\" for key, value in job.get(\"detected_extensions\", {}).items()]))\n",
    "\n",
    "# Create DataFrame\n",
    "df = pd.DataFrame({\n",
    "    \"Title\": title,\n",
    "    \"Company\": company,\n",
    "    \"Location\": location,\n",
    "    \"Job ID\": job_id,\n",
    "    \"Description\": description,\n",
    "    \"Via\": via,\n",
    "    \"Job Highlights\": job_highlights,\n",
    "    \"Related Links\": related_links,\n",
    "    \"Thumbnail\": thumbnail,\n",
    "    \"Extensions\": extensions,\n",
    "    \"Detected Extensions\": detected_extensions\n",
    "})\n",
    "\n",
    "# Display DataFrame\n",
    "df.head()"
   ],
   "metadata": {
    "collapsed": false,
    "ExecuteTime": {
     "end_time": "2024-03-05T02:56:13.943303Z",
     "start_time": "2024-03-05T02:56:13.836218Z"
    }
   },
   "id": "f6370f18bb7072b",
   "execution_count": 6
  },
  {
   "cell_type": "code",
   "outputs": [
    {
     "name": "stdout",
     "output_type": "stream",
     "text": [
      "<class 'pandas.core.frame.DataFrame'>\n",
      "RangeIndex: 0 entries\n",
      "Data columns (total 11 columns):\n",
      " #   Column               Non-Null Count  Dtype  \n",
      "---  ------               --------------  -----  \n",
      " 0   Title                0 non-null      float64\n",
      " 1   Company              0 non-null      float64\n",
      " 2   Location             0 non-null      float64\n",
      " 3   Job ID               0 non-null      float64\n",
      " 4   Description          0 non-null      float64\n",
      " 5   Via                  0 non-null      float64\n",
      " 6   Job Highlights       0 non-null      float64\n",
      " 7   Related Links        0 non-null      float64\n",
      " 8   Thumbnail            0 non-null      float64\n",
      " 9   Extensions           0 non-null      float64\n",
      " 10  Detected Extensions  0 non-null      float64\n",
      "dtypes: float64(11)\n",
      "memory usage: 132.0 bytes\n"
     ]
    }
   ],
   "source": [
    "df.info()"
   ],
   "metadata": {
    "collapsed": false,
    "ExecuteTime": {
     "end_time": "2024-03-05T02:56:14.003138Z",
     "start_time": "2024-03-05T02:56:13.945308Z"
    }
   },
   "id": "4d42228fd14af35b",
   "execution_count": 7
  },
  {
   "cell_type": "code",
   "outputs": [
    {
     "data": {
      "text/plain": "Title                  0\nCompany                0\nLocation               0\nJob ID                 0\nDescription            0\nVia                    0\nJob Highlights         0\nRelated Links          0\nThumbnail              0\nExtensions             0\nDetected Extensions    0\ndtype: int64"
     },
     "execution_count": 8,
     "metadata": {},
     "output_type": "execute_result"
    }
   ],
   "source": [
    "df.isnull().sum()"
   ],
   "metadata": {
    "collapsed": false,
    "ExecuteTime": {
     "end_time": "2024-03-05T02:56:14.045485Z",
     "start_time": "2024-03-05T02:56:14.009139Z"
    }
   },
   "id": "3b162631a29dac76",
   "execution_count": 8
  },
  {
   "cell_type": "code",
   "outputs": [
    {
     "data": {
      "text/plain": "(0, 11)"
     },
     "execution_count": 9,
     "metadata": {},
     "output_type": "execute_result"
    }
   ],
   "source": [
    "df.shape"
   ],
   "metadata": {
    "collapsed": false,
    "ExecuteTime": {
     "end_time": "2024-03-05T02:56:14.073915Z",
     "start_time": "2024-03-05T02:56:14.048489Z"
    }
   },
   "id": "5243a487d555e1bb",
   "execution_count": 9
  },
  {
   "cell_type": "code",
   "outputs": [
    {
     "data": {
      "text/plain": "Title                  float64\nCompany                float64\nLocation               float64\nJob ID                 float64\nDescription            float64\nVia                    float64\nJob Highlights         float64\nRelated Links          float64\nThumbnail              float64\nExtensions             float64\nDetected Extensions    float64\ndtype: object"
     },
     "execution_count": 10,
     "metadata": {},
     "output_type": "execute_result"
    }
   ],
   "source": [
    "df.dtypes"
   ],
   "metadata": {
    "collapsed": false,
    "ExecuteTime": {
     "end_time": "2024-03-05T02:56:14.097397Z",
     "start_time": "2024-03-05T02:56:14.077927Z"
    }
   },
   "id": "61af0b2f501048c9",
   "execution_count": 10
  },
  {
   "cell_type": "code",
   "outputs": [
    {
     "data": {
      "text/plain": "0"
     },
     "execution_count": 11,
     "metadata": {},
     "output_type": "execute_result"
    }
   ],
   "source": [
    "# print number of jobs\n",
    "len(df)"
   ],
   "metadata": {
    "collapsed": false,
    "ExecuteTime": {
     "end_time": "2024-03-05T02:56:14.126895Z",
     "start_time": "2024-03-05T02:56:14.108398Z"
    }
   },
   "id": "fb4739f311fdad8",
   "execution_count": 11
  },
  {
   "cell_type": "code",
   "outputs": [
    {
     "data": {
      "text/plain": "0"
     },
     "execution_count": 12,
     "metadata": {},
     "output_type": "execute_result"
    }
   ],
   "source": [
    "# print number of unique jobs\n",
    "len(df[\"Title\"].unique())"
   ],
   "metadata": {
    "collapsed": false,
    "ExecuteTime": {
     "end_time": "2024-03-05T02:56:14.162189Z",
     "start_time": "2024-03-05T02:56:14.131898Z"
    }
   },
   "id": "298f59be873797c7",
   "execution_count": 12
  },
  {
   "cell_type": "code",
   "outputs": [
    {
     "data": {
      "text/plain": "0"
     },
     "execution_count": 14,
     "metadata": {},
     "output_type": "execute_result"
    }
   ],
   "source": [
    "# print number of unique companies\n",
    "len(df[\"Company\"].unique())"
   ],
   "metadata": {
    "collapsed": false,
    "ExecuteTime": {
     "end_time": "2024-03-05T02:56:36.635839Z",
     "start_time": "2024-03-05T02:56:36.624754Z"
    }
   },
   "id": "13670054ca1f9e",
   "execution_count": 14
  },
  {
   "cell_type": "code",
   "outputs": [],
   "source": [
    "try:\n",
    "    jobs = results.get(\"jobs_results\", [])\n",
    "    for job in jobs:\n",
    "        # Print out title to see available fields\n",
    "        print(job.get(\"title\", \"\"))\n",
    "        print(\"\")\n",
    "except KeyError:\n",
    "    print(\"Error: 'jobs_results' key not found in the response.\")"
   ],
   "metadata": {
    "collapsed": false,
    "ExecuteTime": {
     "end_time": "2024-03-05T02:56:19.076387Z",
     "start_time": "2024-03-05T02:56:19.076387Z"
    }
   },
   "id": "9653c7d4d739f89e",
   "execution_count": null
  },
  {
   "cell_type": "code",
   "outputs": [],
   "source": [
    "#df.to_csv(\"jobs.csv\")"
   ],
   "metadata": {
    "collapsed": false,
    "ExecuteTime": {
     "end_time": "2024-03-05T02:56:19.082383Z",
     "start_time": "2024-03-05T02:56:19.081383Z"
    }
   },
   "id": "ce4c88a432cad990",
   "execution_count": null
  }
 ],
 "metadata": {
  "kernelspec": {
   "display_name": "Python 3",
   "language": "python",
   "name": "python3"
  },
  "language_info": {
   "codemirror_mode": {
    "name": "ipython",
    "version": 2
   },
   "file_extension": ".py",
   "mimetype": "text/x-python",
   "name": "python",
   "nbconvert_exporter": "python",
   "pygments_lexer": "ipython2",
   "version": "2.7.6"
  }
 },
 "nbformat": 4,
 "nbformat_minor": 5
}
